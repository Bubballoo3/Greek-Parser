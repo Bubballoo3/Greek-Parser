{
  "cells": [
    {
      "cell_type": "markdown",
      "metadata": {
        "id": "view-in-github",
        "colab_type": "text"
      },
      "source": [
        "<a href=\"https://colab.research.google.com/github/Bubballoo3/Greek-Parser/blob/main/Final_Project_Greek_Parser.ipynb\" target=\"_parent\"><img src=\"https://colab.research.google.com/assets/colab-badge.svg\" alt=\"Open In Colab\"/></a>"
      ]
    },
    {
      "cell_type": "markdown",
      "metadata": {
        "id": "eiS2oYn4GyLK"
      },
      "source": [
        "# AI Ancient Greek Parser\n",
        "A tool that is able to reference conjugation/declension tables and dictionary entries in order to parse and define ancient greek words just like a real classicist."
      ]
    },
    {
      "cell_type": "markdown",
      "metadata": {
        "id": "5NO60hbnJdnW"
      },
      "source": [
        "Its performance is highly dependent on the frequency of a word, so it works best on Attic dialect. Full testing can be found in the github repository [Greek Parser](https://github.com/Bubballoo3/Greek-Parser.git)"
      ]
    },
    {
      "cell_type": "code",
      "execution_count": 9,
      "metadata": {
        "colab": {
          "base_uri": "https://localhost:8080/"
        },
        "id": "esmmw5jBpEQ6",
        "outputId": "ecbe2b9a-5939-4c6e-d48f-2d4c177d3bf5"
      },
      "outputs": [
        {
          "output_type": "stream",
          "name": "stdout",
          "text": [
            "Cloning into 'Greek-Parser'...\n",
            "remote: Enumerating objects: 169, done.\u001b[K\n",
            "remote: Counting objects: 100% (169/169), done.\u001b[K\n",
            "remote: Compressing objects: 100% (85/85), done.\u001b[K\n",
            "remote: Total 169 (delta 100), reused 137 (delta 81), pack-reused 0 (from 0)\u001b[K\n",
            "Receiving objects: 100% (169/169), 18.22 MiB | 15.06 MiB/s, done.\n",
            "Resolving deltas: 100% (100/100), done.\n"
          ]
        }
      ],
      "source": [
        "#Load auxillary files from github and change directories\n",
        "\n",
        "!git clone https://github.com/Bubballoo3/Greek-Parser.git\n",
        "import os\n",
        "os.chdir(\"Greek-Parser\")"
      ]
    },
    {
      "cell_type": "code",
      "execution_count": 10,
      "metadata": {
        "collapsed": true,
        "id": "wK2SBWnToPYc"
      },
      "outputs": [],
      "source": [
        "# Install langraph\n",
        "%%capture --no-stderr\n",
        "%pip install -U langgraph langsmith langchain_openai\n",
        "# Install Gradio\n",
        "!pip install gradio==3.38.0"
      ]
    },
    {
      "cell_type": "markdown",
      "metadata": {
        "id": "baYivUTbIX8D"
      },
      "source": [
        "The packages and setup are drawn from the LangGraph tutorial [here](https://langchain-ai.github.io/langgraph/tutorials/introduction/#setup)"
      ]
    },
    {
      "cell_type": "code",
      "execution_count": 11,
      "metadata": {
        "colab": {
          "base_uri": "https://localhost:8080/"
        },
        "id": "dewEsffupKGB",
        "outputId": "92b666a2-677a-4bcd-cf02-b04dcc1b7455"
      },
      "outputs": [
        {
          "name": "stdout",
          "output_type": "stream",
          "text": [
            "OpenAI API Key:··········\n"
          ]
        }
      ],
      "source": [
        "# Import packages\n",
        "import getpass\n",
        "import os\n",
        "from typing import Annotated\n",
        "\n",
        "from typing_extensions import TypedDict\n",
        "from langchain_core.messages import AIMessage\n",
        "from langchain_core.tools import tool\n",
        "\n",
        "from langgraph.graph import StateGraph, START, END\n",
        "from langgraph.graph.message import add_messages\n",
        "from langgraph.prebuilt import ToolNode\n",
        "class State(TypedDict):\n",
        "    # Messages have the type \"list\". The `add_messages` function\n",
        "    # in the annotation defines how this state key should be updated\n",
        "    # (in this case, it appends messages to the list, rather than overwriting them)\n",
        "    messages: Annotated[list, add_messages]\n",
        "\n",
        "# Get API key for openAI\n",
        "os.environ[\"OPENAI_API_KEY\"] = getpass.getpass(\"OpenAI API Key:\")\n",
        "from langchain_openai import ChatOpenAI\n"
      ]
    },
    {
      "cell_type": "code",
      "execution_count": 13,
      "metadata": {
        "id": "NsOZgqI8IGdX"
      },
      "outputs": [],
      "source": [
        "# Then we define our llm\n",
        "llm=ChatOpenAI(model_name=\"gpt-4o-mini\")"
      ]
    },
    {
      "cell_type": "markdown",
      "metadata": {
        "id": "n03Ra70fJhY2"
      },
      "source": [
        "With the pieces in place for LangGraph, we begin to make the individual agents involved.\n",
        "\n",
        "The first one will check for an entry in LSJ. Ensure that the lsj.json file is uploaded to the current colab session"
      ]
    },
    {
      "cell_type": "code",
      "execution_count": 12,
      "metadata": {
        "id": "PPX6gu-3JxqU"
      },
      "outputs": [],
      "source": [
        "import json\n",
        "@tool\n",
        "def checkLSJ(string: str):\n",
        "    \"\"\"Search the Liddel and Scott Greek-English Lexicon for a specific word\n",
        "\n",
        "       It returns a (python) dictionary with two keys, \"definition\" and \"mention\" with list values.\n",
        "\n",
        "       The \"definition\" list holds at most one dictionary entry and is focused on that word.\n",
        "\n",
        "       The \"mention\" list holds all the places where the searched word was mentioned in the definition of a different word.\"\"\"\n",
        "    results={\"definition\":[],\"mention\":[]}\n",
        "    GreekAlphabet=[chr(code) for code in range(945,970)]\n",
        "    if string[0] in GreekAlphabet:\n",
        "        pivot = \"λ\"\n",
        "    else: pivot = \"l\"\n",
        "    if string[0] < pivot:\n",
        "        filetouse=\"lsj1.json\"\n",
        "    else:\n",
        "        filetouse=\"lsj2.json\"\n",
        "    print(f\"Searching for {string} in LSJ...\")\n",
        "    with open(f\"./resources/{filetouse}\", 'r') as file:\n",
        "        data = json.load(file)\n",
        "    for key, value in data.items():\n",
        "        response_type = \"none\"\n",
        "        if key == string:\n",
        "            response_type = \"definition\"\n",
        "        else:\n",
        "            for smkey, smvalue in value.items():\n",
        "                if smkey == 'd':\n",
        "                    if string in smvalue:\n",
        "                        response_type = \"mention\"\n",
        "                elif isinstance(smvalue, list):\n",
        "                    for item in smvalue:\n",
        "                        if string == item:\n",
        "                            response_type=\"definition\"\n",
        "        if response_type != \"none\":\n",
        "            if len(results[response_type]) < 5:\n",
        "                results[response_type].append(value['d'])\n",
        "    if len(results) > 0:\n",
        "        return results\n",
        "    else:\n",
        "        return \"Not found\"\n",
        "\n"
      ]
    },
    {
      "cell_type": "markdown",
      "metadata": {
        "id": "evEAhE5upIOP"
      },
      "source": [
        "The second tool references some declension and conjugation tables we have put into JSON format.This allows the model to see some example forms to help it guess at the dictionary definition."
      ]
    },
    {
      "cell_type": "code",
      "execution_count": 14,
      "metadata": {
        "id": "C4Y7SUtTWRJL"
      },
      "outputs": [],
      "source": [
        "\n",
        "@tool\n",
        "def checkEndings(partOfSpeech:str):\n",
        "    \"\"\"Access tables containing information about the personal endings in Ancient Greek. Note that the verbs string contains information about contracts from several conjugations.\n",
        "\n",
        "    INPUT: a string equal to either \"noun\", \"verb\", \"participle\", or \"infinitive\" indicating the part of speech.\n",
        "    OUTPUT: a string containing a table of conjugations/declensions for paradigmatic words in that part of speech\n",
        "    \"\"\"\n",
        "    print(f\"Searching for {partOfSpeech} in tables...\")\n",
        "\n",
        "    with open('./resources/endings.json','r') as file:\n",
        "        data = json.load(file)\n",
        "    if partOfSpeech == \"adjective\":\n",
        "        return data[\"noun\"]\n",
        "    elif partOfSpeech not in data.keys():\n",
        "        return \"Invalid search term. Try again with one of 'noun', 'verb', 'participle', or 'infinitive'\"\n",
        "    else:\n",
        "        return data[partOfSpeech]"
      ]
    },
    {
      "cell_type": "code",
      "execution_count": 15,
      "metadata": {
        "id": "6QCpMjN8p61s"
      },
      "outputs": [],
      "source": [
        "# Collect tools and create tooled LLM\n",
        "tools = [checkLSJ,checkEndings]\n",
        "llm_with_tools = llm.bind_tools(tools)"
      ]
    },
    {
      "cell_type": "code",
      "execution_count": 16,
      "metadata": {
        "id": "wMbTypYQqrN5"
      },
      "outputs": [],
      "source": [
        "# Define models\n",
        "def translator(state: State):\n",
        "    return {\"messages\": [llm_with_tools.invoke(state[\"messages\"])]}"
      ]
    },
    {
      "cell_type": "markdown",
      "metadata": {
        "id": "nowGhvxdXHDu"
      },
      "source": [
        "We then define our graph. As a single agent system, this is pretty simple. More or less it is\n",
        "```\n",
        "     START\n",
        "       |\n",
        "       |\n",
        "      \\|/            (If tool calls)\n",
        "  Translator Agent  ------------------>    Tool Node\n",
        "       |         /|\\                           /\n",
        "       |          \\_________________________/\n",
        "       |\n",
        "       | (If no tool calls or errors occur with the tools)\n",
        "       |\n",
        "      \\|/\n",
        "      END                                            \n",
        "```\n",
        "As such we have to create the translator and tool_node nodes first, and then create the edges. The only complicated edge are the two leaving the translator, which are controlled using a conditional edge, and decides which edge to follow."
      ]
    },
    {
      "cell_type": "code",
      "execution_count": 17,
      "metadata": {
        "id": "p-NWrjtKq_eq"
      },
      "outputs": [],
      "source": [
        "# Define nodes and graphs\n",
        "graph_builder = StateGraph(State)\n",
        "tool_node = ToolNode(tools)\n",
        "graph_builder.add_node(\"translator\",translator)\n",
        "graph_builder.add_node(\"tool_node\",tool_node)\n",
        "graph_builder.add_edge(START, \"translator\")\n",
        "\n",
        "# The route_tools function decides when to send an AI response to a tool, and when to finish\n",
        "def route_tools(state: State):\n",
        "    \"\"\"Use in the conditional_edge to route to the tool_node if there are tool calls\"\"\"\n",
        "    if isinstance(state, list):\n",
        "        ai_message = state[-1]\n",
        "    elif messages := state.get(\"messages\", []):\n",
        "        ai_message = messages[-1]\n",
        "    else:\n",
        "        raise ValueError(f\"No messages found in input state to tool_edge: {state}\")\n",
        "    lastmessage=state[\"messages\"][-2]\n",
        "    if hasattr(messages[-2],\"status\") and \"Error:\" in messages[-2].content:\n",
        "        return END\n",
        "    elif hasattr(ai_message, \"tool_calls\") and len(ai_message.tool_calls) > 0:\n",
        "        return \"tools\"\n",
        "    return END\n",
        "\n",
        "graph_builder.add_conditional_edges(\n",
        "    \"translator\",\n",
        "    route_tools,\n",
        "    {\"tools\":\"tool_node\",END:END},\n",
        ")\n",
        "graph_builder.add_edge(\"tool_node\", \"translator\")\n",
        "\n",
        "graph=graph_builder.compile()"
      ]
    },
    {
      "cell_type": "markdown",
      "metadata": {
        "id": "JWHlXkrtudmT"
      },
      "source": [
        "We then write a function to interact with the graph. We give a precise workflow in the system instructions and a one-shot prompt to ensure proper formatting."
      ]
    },
    {
      "cell_type": "code",
      "execution_count": 18,
      "metadata": {
        "id": "wAAbbhHqtChY"
      },
      "outputs": [],
      "source": [
        "# We then access a stream of messages from a graph instance.\n",
        "#searchword = input(\"Enter a word to search for: \")\n",
        "def gradiointeract(searchword):\n",
        "    events=graph.stream({\"messages\": [(\"system\",\"\"\"\n",
        "        You are a classicist skilled in Ancient Greek and interpreting entries and abbreviations from the LSJ Greek-English Lexicon.\n",
        "        When given a word (the word will not have accents or subscripts, you must account for this in your guesses), you first use the checkLSJ tool to check if that word exists as an entry. The following\n",
        "        rules should help you parse these dictionary entries.\n",
        "        1. Words in <b> brackets are the title of the entry. When you search, you may get an entry with your word in <i> brackets, in which case you should use the context to help you find the right word.\n",
        "        2. If the entry contains \"v.\" followed by a different word, it is a referral to a different word and you should search that word and show the result.\n",
        "\n",
        "        After searching the dictionary, use the result to interpret and parse the word.\n",
        "        If you can't find direct results, make at least three guesses of what the root word might be and try each until you get the correct entry. Remember that the dictionary form will usually only change the ending of the word, not the beginning. If you still can't find it, make three guesses of what part of speech it is. From there, use the checkEndings tool to check the tables and look for endings that are the most similar to help you guess what the dictionary form is. Continue to search the dictionary until you find the entry for the root word. The root word should always be in the dictionary, and you should access the definition before finishing.\n",
        "        Note that the same word has many different forms in greek, so you will likely have to convert it either to the nominative singular (for nouns), the nominative\n",
        "        masculine singular (for adjectives), or the first person present active indicative (for verbs). When you are done you should give a description of the process you used to get the form, then give your parse of the word, and quote the FULL dictionary definition EXACTLY QUOTED FROM LSJ of the root word, and add newlines when appropriate. Make sure you always provide your parsing and quote the final entry in its entirety. NEVER simulate an entry you did not look up. NEVER cut out content from the LSJ entry until you have quoted at least the first 20 lines.\n",
        "\n",
        "        REMEMBER!! You must include the full parsing of the searched word and definition of the root word in every answer. Acknowledge when you do not think you are correct.\"\"\",),\n",
        "                                (\"user\",\"ελθουσα\"),\n",
        "                                (\"assistant\",\"\"\"\n",
        "    The word \"ελθουσα\" is a form of the verb \"ἔρχομαι,\" which means \"to come\" or \"to go.\" In this case, \"ελθουσα\" is a feminine participle, specifically the aorist active participle form. To understand its meaning and grammatical properties, I checked the root entry for \"ἔρχομαι,\" as well as the aorist participle form \"ἐλθών.\"\n",
        "\n",
        "    ### Parsing Process:\n",
        "    1. **Identify the root**: The word \"ελθουσα\" derives from the verb \"ἔρχομαι\" (to come/go), specifically from its aorist stem.\n",
        "    2. **Determine the form**: The suffix \"-ουσα\" indicates that it is a feminine aorist active participle in the nominative singular form.\n",
        "    3. **Check for definitions**: Upon checking \"ἔρχομαι,\" I found that it indeed relates to \"ελθουσα,\" which corresponds to the aorist active participle form \"ἐλθών\" for masculine and \"ελθουσα\" for feminine.\n",
        "\n",
        "    ### Parsed Form:\n",
        "    - **Word**: ελθουσα\n",
        "    - **Root**: ἔρχομαι\n",
        "    - **Form**: Aorist active participle, feminine singular nominative\n",
        "    - **Meaning**: \"having come\" or \"having gone\"\n",
        "\n",
        "    ### Definition from LSJ: ([View in Logeion](https://en.wiktionary.org/wiki/%E1%BC%94%CF%81%CF%87%CE%BF%CE%BC%CE%B1%CE%B9))\n",
        "    The entry for \"ἔρχομαι\" describes it as follows:\n",
        "\n",
        "    > \"<b>ἔρχομαι</b> Il.13.256, etc. (Act. <i>ἔρχω</i> as barbarism, Tim.Pers.167): impf. <i>ἠρχόμην</i> Hp.Epid.7.59, Arat.102, (<i>δι-</i>) Pi.O.9.93; freq. in later Prose, LXXGe.48.7, Ev.Marc.1.45, Luc.Jud.Voc.4, Paus.5.8.5, etc.; in Att. rare even in compds., <i>ἐπ-ηρχόμην</i> Th.4.120 (perh. fr. <i>ἐπάρχομαι</i>), <i>προσ-</i> ib.121 (perh. fr. <i>προσάρχομαι</i>), <i>περι-</i> Ar.Th.504 cod.: from <i>ἐλυθ-</i> (cf. <i>ἐλεύθω</i>) come fut. <i>ἐλεύσομαι</i>, Hom., Ion., Trag. (A.Pr.854, Supp.522, S.OC1206, Tr.595), in Att. Prose only in Lys.22.11, freq. later, D.H.3.15, etc.: aor., Ep. and Lyr. <i>ἤλῠθον</i> Il.1.152, Pi.P.3.99, etc., used by E. (not A. or ) in dialogue (Rh.660, El.598, Tr.374, cf. Neophr.1.1); but <i>ἦλθον</i> is more freq. even in Hom., and is the only form used in obl. moods, <i>ἐλθέ</i>, <i>ἔλθω</i>, <i>ἔλθοιμι</i>, <i>ἐλθεῖν</i>, <i>ἐλθών</i> [...]\"\n",
        "    \"\"\"),\n",
        "                                (\"user\",f\"{searchword}\")\n",
        "    ]})\n",
        "\n",
        "    lastmessage = \"\"\n",
        "    for event in events:\n",
        "        for value in event.values():\n",
        "            message=value[\"messages\"][-1].content\n",
        "            if len(message) > 0:\n",
        "                lastmessage = message\n",
        "    return lastmessage"
      ]
    },
    {
      "cell_type": "code",
      "execution_count": null,
      "metadata": {
        "colab": {
          "base_uri": "https://localhost:8080/"
        },
        "id": "8W59qxepsaHr",
        "outputId": "740d167b-96e4-414a-b4db-65d004cb53a6"
      },
      "outputs": [
        {
          "output_type": "stream",
          "name": "stdout",
          "text": [
            "Enter a word to search for: οπωρα\n",
            "Searching for οπωρα in LSJ...\n",
            "The word \"οπωρα\" corresponds to the noun \"ὀπώρα,\" which relates to the latter part of summer and has various meanings in different contexts. \n",
            "\n",
            "### Parsing Process:\n",
            "1. **Identify the root**: The word \"οπωρα\" appears to be a variation of \"ὀπώρα,\" which can be found in the LSJ entry.\n",
            "2. **Check the entry**: Upon searching for \"ὀπώρα,\" I found a detailed definition that describes its meanings, including its seasonal connotations and metaphorical uses.\n",
            "\n",
            "### Parsed Form:\n",
            "- **Word**: οπωρα\n",
            "- **Root**: ὀπώρα\n",
            "- **Form**: Noun, feminine singular nominative\n",
            "- **Meaning**: Refers to the part of the year between the rising of Sirius and of Arcturus (the latter part of summer), and in later times became associated with autumn.\n",
            "\n",
            "### Definition from LSJ:\n",
            "The entry for \"ὀπώρα\" states:\n",
            "\n",
            "> \"<b>ὀπώρ-α</b>, Ion. <i>ὀπώρ-η</i>, <i>ἡ</i>: sts. <i>ὁπώρα</i>, cf. <i>χεῖμα</i> <i>χὠπώραν</i>, i.e. <i>καὶ</i> <i>ὁπ-</i>, Alcm.76 (<i>χειμάχωι</i> <i>πάραν</i>, etc. codd.); pr. nn. <i>Ὁπωρίς</i> IG5(1).1497, Hopora CIL6.21782; cf. <i>μεθόπωρον</i>, <i>μεθοπωρινός</i>:—the part of the year between the rising of Sirius and of Arcturus (i.e. the last days of July, all Aug., and part of Sept.), the latter part of summer; Hom. names <i>θέρος</i> and <i>ὀπώρη</i> together, <i>θέρος</i> <i>τεθαλυῖά</i> <i>τ’</i> <i>ὀπώρη</i> Od.11.192; <i>Σείριος</i> being the star of <i>ὀπώρη</i>, Il.22.27; cf. <i>ὀπωρινός</i>.—In later times it became the name of a definite season, autumn (v. <i>ὥρα</i> I.1 c), but was still used sts. to denote summer (autumn being distd. as <i>φθινόπωρον</i> or <i>μετόπωρον</i>), <i>ἀρξάμενος</i> <i>ἀπὸ</i> <i>τοῦ</i> <i>ἠρινοῦ</i> <i>χρόνου</i> <i>πρὸ</i> <i>ὀπώρας</i> X.HG3.2.10, cf. Ar.Av.709, Arist.Mete.348a1; <i>ἐπ’</i> <i>ὀκτὼ</i> <i>μῆνας</i> <i>Κυρηναίους</i> <i>ὀπώρη</i> <i>ἐπέχει</i> Hdt.4.199; <i>νέας</i> <i>δ’</i> <i>ὀπώρας</i> <i>ἡνίκ’</i> <i>ἂν</i> <i>ξανθῇ</i> <i>στάχυς</i> A.Fr.304.7. &nbsp;&nbsp;&nbsp;&nbsp;<b>II.</b> fruit, <i>γλαυκῆς</i> <i>ὀπώρας</i> . . <i>ποτοῦ</i> <i>χυθέντος</i> . . <i>Βακχίας</i> <i>ἀπ’</i> <i>ἀμπέλου</i> S.Tr.703; <i>τέμνεται</i> <i>βλαστουμένη</i> <i>καλῶς</i> <i>ὀ</i>. Id.Fr.255.8; <i>σικυούς</i>, <i>βότρυς</i>, <i>ὀπώραν</i> Ar.Fr.569.1: so in Prose, X.HG2.4.25, Pl.Lg.844d, 845c, Arist.HA606b2, 629a2: in this sense also in pl., Is.11.43; Alcm.(75) even calls honey <i>κηρίνα</i> <i>ὀπώρα</i>; <i>ἐαρινὴ</i> <i>ὀπώρα</i> Alciphr.Fr.6.10. &nbsp;&nbsp;&nbsp;&nbsp;<b>III.</b> metaph., life&#39;s summer, the time of youthful ripeness, Pi.I.2.5; <i>τέρειναν</i> <i>ματέρ’</i> <i>οἰνάνθας</i> <i>ὀπώραν</i> (v. <i>οἰνάνθη</i>) Id.N.5.6; ripe virginity, A.Supp.998, 1015; <i>ὀ</i>. <i>Κύπριδος</i> Chaerem.12.\"\n",
            "\n",
            "This definition provides a comprehensive understanding of the term \"οπωρα\" as it pertains to seasonal changes and metaphorical interpretations in literature.\n",
            "Enter a word to search for: οπωραι\n",
            "Searching for οπωραι in LSJ...\n",
            "Searching for ὀπωραι in LSJ...\n",
            "Searching for ὀπώρα in LSJ...\n",
            "Searching for noun in tables...\n",
            "The word \"οπωραι\" appears to be a plural form of a noun. Given that my initial searches for \"οπωραι\" and \"ὀπωραι\" did not yield direct results, I checked for a related entry \"ὀπώρα,\" which refers to the season or time of year, specifically associated with fruits or harvest periods.\n",
            "\n",
            "### Parsing Process:\n",
            "1. **Initial Search**: The word \"οπωραι\" was searched directly, but no results were found. I then searched \"ὀπώρα,\" which is related to the harvesting season.\n",
            "2. **Identifying the Root**: The correct root appears to be \"ὀπώρα,\" from which \"οπωραι\" derives, likely being a nominative plural form.\n",
            "3. **Checking Endings**: I reviewed the endings for feminine nouns to confirm the declension aligns with \"οπωραι,\" verifying that it is indeed a first declension feminine noun.\n",
            "\n",
            "### Parsed Form:\n",
            "- **Word**: οπωραι\n",
            "- **Root**: ὀπώρα\n",
            "- **Form**: Nominative plural\n",
            "- **Meaning**: \"fruits\" or \"harvest time\"\n",
            "\n",
            "### Definition from LSJ:\n",
            "The entry for \"ὀπώρα\" describes it as follows:\n",
            "\n",
            "> \"<b>ὀπώρα</b>, <i>the part of the year between the rising of Sirius and of Arcturus (i.e. the last days of July, all Aug., and part of Sept.), the latter part of summer; Hom. names θέρος and ὀπώρα together, θέρος τε θεαλυά τ’ ὀπώρα Od.11.192; ... In later times it became the name of a definite season, autumn ...\"\n",
            "\n",
            "Thus, \"οπωραι\" can be understood as referring to the time of harvest or fruits associated with that season. \n",
            "\n",
            "In summary, I correctly identified the root, parsed the word, and provided the relevant definition from the lexicon.\n",
            "Enter a word to search for: συνεβούλευες\n",
            "Searching for συνεβούλευες in LSJ...\n",
            "Searching for συμβουλεύω in LSJ...\n",
            "Searching for verb in tables...\n",
            "The word \"συνεβούλευες\" is a form of the verb \"συμβουλεύω,\" which means \"to advise\" or \"to counsel.\" It appears to be in the imperfect indicative form, specifically the second person singular, which would translate to \"you were advising\" or \"you used to advise.\"\n",
            "\n",
            "### Parsing Process:\n",
            "1. **Identify the root**: The root verb is \"συμβουλεύω.\"\n",
            "2. **Determine the form**: The prefix \"συ-\" indicates a sense of \"together\" or \"with,\" and the ending \"-ες\" indicates a second person singular in the imperfect tense.\n",
            "3. **Check for definitions**: Upon checking \"συμβουλεύω,\" I found that it indeed relates to advising or counseling.\n",
            "\n",
            "### Parsed Form:\n",
            "- **Word**: συνεβούλευες\n",
            "- **Root**: συμβουλεύω\n",
            "- **Form**: Imperfect indicative, second person singular\n",
            "- **Meaning**: \"you were advising\" or \"you used to advise\"\n",
            "\n",
            "### Definition from LSJ:\n",
            "The entry for \"συμβουλεύω\" describes it as follows:\n",
            "\n",
            "> \"<b>συμβουλ-εύω</b>, advise, counsel, c. dat. pers. et inf., advise one to do a thing, Hdt.1.53,59, 2.107, Th.1.65, etc.; <i>οὐ</i> <i>συμβουλεύων</i> <i>Ξέρξῃ</i> <i>στρατεύεσθαι</i> advising him not . ., Hdt.7.46: rarely c. acc. et inf., <i>συμβουλεύω</i> . . <i>συμβῆναι</i> <i>ὑμᾶς</i> I advise that you should . ., Pl.Prt.337e, cf. Gal.16.501. &nbsp;&nbsp;&nbsp;&nbsp;<b>2.</b> without inf., <i>σ</i>. <i>τινί</i> <i>τι</i> Hdt.1.71, etc.; <i>ὅτι</i> <i>ἂν</i> <i>δύνωνται</i> <i>ἀγαθὸν</i> <i>Ἀθηναίοις</i> IG12.106.19; <i>τοῖς</i> <i>ὀλίγον</i> <i>διαπνεομένοις</i> <i>ἀσιτίαν</i> Gal.15.508; <i>τινὶ</i> <i>περί</i> <i>τινος</i> Pl.Prt.319d, etc.; <i>εὖ</i> <i>σ</i>. <i>τινί</i> Thgn.38; <i>σ</i>. <i>τι</i> recommend a measure, <i>τὰ</i> <i>ἄριστα</i> Hdt.7.237; <i>χρηστόν</i> <i>τι</i> Ar.Nu.793; <i>πορείαν</i> X.An.5.6.12, etc.: but c. acc. cogn., <i>σ</i>. <i>συμβουλάς</i> give advice, Pl.Grg.520d:—Pass., <i>συμβουλεύεταί</i> <i>τι</i> advice is given, Id.Ep.330d; <i>τὰ</i> <i>παρὰ</i> <i>τῶν</i> <i>θεῶν</i> <i>συμβουλευόμενα</i> X.Cyr.1.6.2; <i>τὰ</i> <i>συμβουλευθέντα</i> Isoc.3.13; <i>τὰ</i> <i>-βεβουλευμένα</i> res de consilii sententia actae, IG7.413.58 (Oropus, i B.C., Senatus consultum); of persons, to be advised, <i>ὑπό</i> <i>τινος</i> POxy.118.3 (iii A.D.).\" \n",
            "\n",
            "This definition confirms the meaning of the verb and its usage in various contexts.\n",
            "Enter a word to search for: διακωλυσας\n",
            "Searching for διακωλυσας in LSJ...\n",
            "Searching for διακωλύω in LSJ...\n",
            "The word \"διακωλυσας\" is derived from the verb \"διακωλύω,\" which means \"to hinder\" or \"to prevent.\" \n",
            "\n",
            "### Parsing Process:\n",
            "1. **Identify the root**: The base verb is \"διακωλύω.\" The form \"διακωλυσας\" appears to be a form of this verb.\n",
            "2. **Determine the form**: The suffix \"-ας\" indicates that it is in the second person singular, aorist active indicative form. This suggests that \"διακωλυσας\" can be translated as \"you hindered\" or \"you prevented.\"\n",
            "3. **Check for definitions**: I searched for \"διακωλύω\" to confirm its meaning and grammatical properties.\n",
            "\n",
            "### Parsed Form:\n",
            "- **Word**: διακωλυσας\n",
            "- **Root**: διακωλύω\n",
            "- **Form**: Aorist active indicative, second person singular\n",
            "- **Meaning**: \"you hindered\" or \"you prevented\"\n",
            "\n",
            "### Definition from LSJ:\n",
            "The entry for \"διακωλύω\" describes it as follows:\n",
            "\n",
            "> \"<b>διακωλ-ύω</b> <i>[ῡ]</i>, hinder, prevent, <i>τινὰ</i> <i>μὴ</i> <i>ποιεῖν</i> Hdt.8.144, cf. Lys.20.36; <i>δ</i>. <i>σε</i> <i>ὀρφανὸν</i> <i>εἶναι</i> E.Hec.148; <i>δ</i>. <i>τὰ</i> <i>ἱερὰ</i> <i>μὴ</i> <i>γίγνεσθαι</i> Antipho5.82; <i>δ</i>. <i>ἄδικα</i> <i>γίγνεσθαι</i> Pl.Ap.31e; <i>δ</i>. <i>τινά</i> Th.8.92, Ev.Matt.3.14; <i>δ</i>. <i>τινά</i> <i>τι</i> (sc. <i>ποιεῖν</i>) Pl.Ep.315d; <i>δ</i>. <i>τινά</i> <i>τινος</i> D.S.20.79; <i>δ</i>. <i>φόνον</i> S.OC1771 (lyr.); <i>δ</i>. <i>τὸ</i> <i>πρᾶγμα</i> Alc.Com.3, cf. Arist.EN1159b6:—Pass., Th.1.101; <i>διακωλυθεὶς</i> <i>τοῦ</i> <i>σκοποῦ</i> <i>τυχεῖν</i> Antipho3.2.7: <i>ἂ</i> <i>διεκωλύθη</i> (sc. <i>ποιεῖν</i>) D.18.60.\" \n",
            "\n",
            "This definition confirms the meaning of the root verb and the specific form I parsed.\n",
            "Enter a word to search for: συμπεπλεγμενον\n",
            "Searching for συμπεπλεγμενον in LSJ...\n",
            "Searching for συμπλέκω in LSJ...\n",
            "Searching for participle in tables...\n",
            "Searching for συμπεπλεγμένος in LSJ...\n",
            "Searching for συμπλέκω in LSJ...\n",
            "The word \"συμπεπλεγμενον\" is a form of the verb \"συμπλέκω,\" which means \"to twine together\" or \"to interweave.\" Specifically, it seems to be a perfect passive participle of this verb. \n",
            "\n",
            "### Parsing Process:\n",
            "1. **Identify the root**: The root of \"συμπεπλεγμενον\" is \"συμπλέκω.\" \n",
            "2. **Determine the form**: The form \"συμπεπλεγμενον\" suggests that it is a perfect passive participle, neuter singular nominative form.\n",
            "3. **Check for definitions**: Upon checking the entry for \"συμπλέκω\" and related forms, I confirmed that \"συμπεπλεγμενον\" is indeed linked to the meaning of being intertwined or plaited together.\n",
            "\n",
            "### Parsed Form:\n",
            "- **Word**: συμπεπλεγμενον\n",
            "- **Root**: συμπλέκω\n",
            "- **Form**: Perfect passive participle, neuter singular nominative\n",
            "- **Meaning**: \"having been interwoven\" or \"having been twined together\"\n",
            "\n",
            "### Definition from LSJ:\n",
            "The entry for \"συμπλέκω\" describes it as follows:\n",
            "\n",
            "> \"<b>συμπλέκ-ω</b>, 2 aor. Pass. <i>συνεπλάκην</i> <i>[ᾰ]</i> and <i>συνεπλέκην</i> (v. infr. II.1 and 2):—twine or plait together, <i>συνδεῖν</i> <i>καὶ</i> <i>σ</i>. Pl.Plt.309b; <i>στέφανον</i> Plu.Eum.6; <i>σὺν</i> <i>δ’</i> <i>ἀναμὶξ</i> <i>πλέξας</i> <i>ἶριν</i> having twined the iris therewith, AP4.1.9 (Mel.); <i>ἄτριον</i> <i>κερκίδι</i> Theoc.18.34; <i>τὼ</i> <i>χεῖρε</i> <i>ἐς</i> <i>τοὐπίσω</i> <i>ξυμπλέκοντες</i> joining their hands behind them, Th.4.4; <i>σ</i>. <i>τινὶ</i> <i>τὰς</i> <i>χεῖρας</i> join hands, become intimate with one, Plb.2.45.2, cf. 47.6; so <i>σ</i>. <i>σπέρμα</i> <i>καὶ</i> <i>γάμους</i> <i>τέκνων</i> E.Fr.326.5: abs., <i>πλάταισιν</i> <i>ἐσχάταισι</i> <i>σ</i>. perh. binding the whole together, Id.IA292 (lyr.):—Pass., to be twined together, plaited, <i>ἐκ</i> <i>τῶν</i> <i>θαλλῶν</i> Din.1.18; <i>ἡ</i> <i>ψυχὴ</i> <i>διὰ</i> <i>τὸ</i> <i>συμπεπλέχθαι</i> <i>πρὸς</i> <i>τὸ</i> <i>σῶμα</i> Arist.de An.406b28, cf. Placit.1.7.31; <i>πρὸς</i> <i>ἄλληλα</i> Pl.Ti.80c; <i>λύγοισι</i> <i>σῶμα</i> <i>συμπεπλεγμένοι</i> E.Cyc.225; <i>ὅταν</i> <i>συμπλᾰκῇ</i> <i>[τὰ</i> <i>στελέχη]</i> when they are twisted together, Thphr.CP5.5.4; <i>ἴχνη</i> <i>συμπεπλεγμένα</i> tracks entangled, crossing in different directions, opp. <i>ὀρθά</i>, X.Cyn.5.6.\"\n",
            "\n",
            "This entry illustrates the verb's use and the meaning of being intertwined or combined intricately.\n",
            "Enter a word to search for: επιλειψας\n",
            "Searching for επιλειψας in LSJ...\n",
            "Searching for επιλείπω in LSJ...\n",
            "Searching for επιλαμβανω in LSJ...\n",
            "Searching for λειπω in LSJ...\n",
            "Searching for verb in tables...\n",
            "Searching for λειψας in LSJ...Searching for λειπώ in LSJ...\n",
            "\n",
            "Searching for επιλειπω in LSJ...\n",
            "The word \"επιλειψας\" appears to be a form related to the verb \"ἐπιλείπω,\" which means \"to leave behind\" or \"to fall short.\" To confirm its dictionary entry and understand its grammatical properties, I followed the steps below:\n",
            "\n",
            "### Parsing Process:\n",
            "1. **Identify the base verb**: The prefix \"ἐπι-\" typically means \"upon\" or \"to\" in Greek, combined with \"λείπω\" (to leave), leading to \"ἐπιλείπω\" as the root form.\n",
            "2. **Determine the form**: The ending \"-σας\" suggests it's an aorist active participle, masculine singular nominative.\n",
            "3. **Search for definitions**: The verb \"ἐπιλείπω\" was confirmed as a valid entry, which means \"to leave behind\" or \"to fall short.\"\n",
            "\n",
            "### Parsed Form:\n",
            "- **Word**: επιλειψας\n",
            "- **Root**: ἐπιλείπω\n",
            "- **Form**: Aorist active participle, masculine singular nominative\n",
            "- **Meaning**: \"having left behind\" or \"having fallen short\"\n",
            "\n",
            "### Definition from LSJ:\n",
            "Here is the full entry for \"ἐπιλείπω\" from the LSJ:\n",
            "\n",
            "> \"<b>ἐπιλείπω</b>, leave behind, <i>ἐπὶ</i> <i>δὲ</i> <i>πλεῖον</i> <i>ἐλέλειπτο</i> Od.8.475, cf. X.An.1.8.18 codd.:—Med., leave behind, of gleanings, v.l. in LXXOb.1.5:— Pass., c.gen., fall short of, <i>παντὸς</i> <i>ἀριθμοῦ</i> Pl.Epin.978b: c. dat., <i>τῇ</i> <i>δυνάμει</i>, <i>τῇ</i> <i>οὐσίᾳ</i>, Arist.Ath.20.2, 27.4.  \n",
            "> <b>2.</b> leave untouched, <i>ὡς</i> <i>οὔτ’</i> <i>ἂν</i> <i>τῶν</i> <i>ἐμῶν</i> <i>ἐπιλίποιμι</i> <i>οὐδὲν</i> <i>οὔτε</i> <i>τῶν</i> <i>φίλων</i> Pl.Prt.310e: c.part., <i>μυρία</i> <i>ἐ</i>. <i>λέγων</i> Id.Phlb.26b, cf. 52d.  \n",
            "> <b>II.</b> of things, fail one, c.acc. pers., <i>ἥβην</i> . ., <i>ἥ</i> <i>μ’</i> <i>ἐπιλείπει</i> Thgn.1131; <i>ὕδωρ</i> <i>[μιν]</i> <i>ἐπέλιπε</i> Hdt.7.21, cf. 2.174; so <i>τῶν</i> <i>ὄμβρων</i> <i>ἐπιλιπόντων</i> <i>αὐτούς</i> (sc. <i>τοὺς</i> <i>ποταμούς</i>) Id.2.25; <i>γλαῦκες</i> <i>ὑμᾶς</i> <i>οὔποτ’</i> <i>ἐπιλείψουσι</i> Ar.Av.1106; <i>ἐπειδὰν</i> <i>αὐτοὺς</i> <i>ἐπιλίπωσιν</i> <i>ἐλπίδες</i> Th.5.103: c.inf., <i>[ὁ</i> <i>νόμος]</i> <i>ἐμοὶ</i> <i>μόνῳ</i> <i>ἐπέλιπε</i> <i>μὴ</i> <i>ὠφελῆσαι</i> Antipho5.17; <i>ἐπιλίποι</i> <i>ἂν</i> <i>ἡμᾶς</i> <i>ὁ</i> <i>χρόνος</i> time would fail me, Isoc.1.11, cf. Lys.12.1, Ep.Hebr.11.32; <i>τὸ</i> <i>ὕδωρ</i> <i>ἡμᾶς</i> <i>ἐ</i>. Isoc.15.320; <i>ἐπιλείψει</i> <i>με</i> <i>λέγονθ’</i> <i>ἡ</i> <i>ἡμέρα</i> D.18.296: later, c.dat., Plu.Cic.42, Ael.NA8.17.\"\n",
            "\n",
            "This defines the term \"ἐπιλείπω\" thoroughly, showing its various uses and contexts in Ancient Greek.\n",
            "Enter a word to search for: σμικροτητα\n",
            "Searching for σμικροτητα in LSJ...\n",
            "Searching for σμικρός in LSJ...Searching for σμικρ- in LSJ...\n",
            "\n",
            "Searching for μικρότης in LSJ...\n",
            "The word \"σμικρότητα\" seems to be derived from the adjective \"σμικρός,\" which means \"small\" or \"little.\" In this case, \"σμικρότητα\" is a noun that refers to the quality of being small or little, likely translating to \"smallness\" or \"pettiness.\" To verify and find the exact definition, I will check related words.\n",
            "\n",
            "### Parsing Process:\n",
            "1. **Identify the root**: The root word is \"σμικρός.\"\n",
            "2. **Identify the form**: The suffix \"-τητα\" typically forms abstract nouns in Greek, indicating a quality or state.\n",
            "3. **Check definitions**: By checking the root word and related entries, I found references to \"μικρότης,\" which is directly related to \"σμικρότητα.\"\n",
            "\n",
            "### Related Entries:\n",
            "- **σμικρός**: \"small, little; of minor importance.\"\n",
            "- **μικρότης**: \"smallness, pettiness, meanness.\"\n",
            "  \n",
            "### Entry for \"σμικρότητα\":\n",
            "The final entry reveals the meaning of \"σμικρότητα\" as follows:\n",
            "\n",
            "> **Definition**: \"<b>μικρότης</b> or <b>σμικρότης</b>: the quality of being small; pettiness, meanness, of rank, matters, triviality.\"\n",
            "\n",
            "### Conclusion:\n",
            "- **Word**: σμικρότητα\n",
            "- **Root**: σμικρός\n",
            "- **Form**: Abstract noun\n",
            "- **Meaning**: \"smallness\" or \"petty quality\"\n",
            "\n",
            "### Full Definition from LSJ:\n",
            "> **μικρότης** or **σμικρότης** (v. μικρός): <i>ητος</i>, smallness. first in Anaxag.1, cf. Arist.Metaph.1056b29; <i>δι</i> <i>σμικρότη</i> <i>η</i> <i>ορα</i> Pl.Ti.43a, cf. Isoc.4.27; of voice, Arist.de An.422b30; <i>νομεων</i> Thphr.Vent.1: pl., <i>μεγέθη</i> <i>καὶ</i> <i>μικροί</i> Plu.2.687e. \n",
            "> \n",
            "> 2. meanness, pettiness, of rank, Isoc.4.93, Arist.Pol.1302b4; of matters, Id.Rh.1393a9; of language, triviality, Longin.43.1. \n",
            "\n",
            "This provides a thorough understanding of \"σμικρότητα\" in its context within Ancient Greek literature.\n",
            "Enter a word to search for: γειτονηματι\n",
            "Searching for γειτονηματι in LSJ...\n",
            "Searching for γειτονία in LSJ...\n",
            "Searching for γειτόν in LSJ...\n",
            "Searching for γειτόν-ημα in LSJ...\n",
            "The word \"γειτονηματι\" does not appear in the LSJ Greek-English Lexicon as is. However, through the process of deduction, I arrived at the root word \"γειτόνημα,\" which is relevant to \"γειτονηματι.\"\n",
            "\n",
            "### Parsing Process:\n",
            "1. **Identify the root**: The root appears to be \"γειτόνημα,\" which means \"neighbourhood\" or \"neighbouring place.\"\n",
            "2. **Determine the form**: The suffix \"-τι\" in \"γειτονηματι\" suggests it may be a form related to the noun \"γειτόνημα.\"\n",
            "3. **Check related words**: I looked up \"γειτόνημα\" and found the full entry in LSJ.\n",
            "\n",
            "### Parsed Form:\n",
            "- **Word**: γειτονηματι\n",
            "- **Root**: γειτόνημα\n",
            "- **Form**: Likely a dative or locative case (based on the ending).\n",
            "- **Meaning**: \"in the neighbourhood\" or \"to the neighbourhood.\"\n",
            "\n",
            "### Definition from LSJ:\n",
            "Here is the definition for the root word \"γειτόν-ημα\":\n",
            "\n",
            "> \"<b>γειτόν-ημα</b>, <i>ατος</i>, <i>τό</i>, neighbourhood, neighbouring place, Alcm.116; <i>ἁλμυρὸν</i> <i>καὶ</i> <i>πικρὸν</i> <i>γ</i>. Pl.Lg.705a, cf. Ael.Ep.13, Procop.Aed.1.11, al., Agath.3.6; <i>τῆς</i> <i>καρδίης</i> <i>καίριον</i> <i>γ</i>. <i>ὁ</i> <i>στόμαχος</i> Aret.CA2.3, cf. CD2.6; proximity, <i>τὸ</i> <i>ψυχῆς</i> <i>πρὸς</i> <i>τὸ</i> <i>ἄνω</i> <i>γ</i>. Plot.5.1.3.\"\n",
            "\n",
            "This process demonstrates how I traced the word through related entries and derived its meaning based on grammatical structure and context.\n"
          ]
        }
      ],
      "source": [
        "# Non gradio version runs in terminal until you enter 'exit'\n",
        "searchword = input(\"Enter a word to search for: \")\n",
        "while searchword != \"exit\":\n",
        "    print(gradiointeract(searchword))\n",
        "    searchword = input(\"Enter a word to search for: \")"
      ]
    },
    {
      "cell_type": "code",
      "execution_count": null,
      "metadata": {
        "colab": {
          "base_uri": "https://localhost:8080/",
          "height": 702
        },
        "id": "IexHEZe2tmxj",
        "outputId": "17cb23fc-abaa-4000-b884-dea4e62992e8"
      },
      "outputs": [
        {
          "name": "stdout",
          "output_type": "stream",
          "text": [
            "IMPORTANT: You are using gradio version 3.38.0, however version 4.44.1 is available, please upgrade.\n",
            "--------\n",
            "Colab notebook detected. This cell will run indefinitely so that you can see errors and logs. To turn off, set debug=False in launch().\n",
            "Running on public URL: https://5794f8cd1457e8eac8.gradio.live\n",
            "\n",
            "This share link expires in 72 hours. For free permanent hosting and GPU upgrades, run `gradio deploy` from Terminal to deploy to Spaces (https://huggingface.co/spaces)\n"
          ]
        },
        {
          "data": {
            "text/html": [
              "<div><iframe src=\"https://5794f8cd1457e8eac8.gradio.live\" width=\"100%\" height=\"500\" allow=\"autoplay; camera; microphone; clipboard-read; clipboard-write;\" frameborder=\"0\" allowfullscreen></iframe></div>"
            ],
            "text/plain": [
              "<IPython.core.display.HTML object>"
            ]
          },
          "metadata": {},
          "output_type": "display_data"
        },
        {
          "name": "stdout",
          "output_type": "stream",
          "text": [
            "Searching for λεγω in LSJ...\n",
            "Keyboard interruption in main thread... closing server.\n",
            "Killing tunnel 127.0.0.1:7860 <> https://5794f8cd1457e8eac8.gradio.live\n"
          ]
        },
        {
          "data": {
            "text/plain": []
          },
          "execution_count": 31,
          "metadata": {},
          "output_type": "execute_result"
        }
      ],
      "source": [
        "#Add Gradio\n",
        "import gradio as gr\n",
        "\n",
        "interface = gr.Interface(fn=gradiointeract,\n",
        "                         inputs=gr.Textbox(lines=1, placeholder=\"Enter a word to search for\"),\n",
        "                         outputs=gr.Markdown(),\n",
        "                         title=\"Ancient Greek Parser\",\n",
        "                         )\n",
        "\n",
        "interface.launch(share=True, debug=True)"
      ]
    },
    {
      "cell_type": "code",
      "source": [
        "greek_letterz=[chr(code) for code in range(945,970)]\n",
        "\n",
        "print(greek_letterz)"
      ],
      "metadata": {
        "colab": {
          "base_uri": "https://localhost:8080/"
        },
        "id": "f32Pmv7k2Q4E",
        "outputId": "4d155e5e-d712-4eba-c4ea-77fa1a964300"
      },
      "execution_count": 5,
      "outputs": [
        {
          "output_type": "stream",
          "name": "stdout",
          "text": [
            "['α', 'β', 'γ', 'δ', 'ε', 'ζ', 'η', 'θ', 'ι', 'κ', 'λ', 'μ', 'ν', 'ξ', 'ο', 'π', 'ρ', 'ς', 'σ', 'τ', 'υ', 'φ', 'χ', 'ψ', 'ω']\n"
          ]
        }
      ]
    }
  ],
  "metadata": {
    "colab": {
      "provenance": [],
      "include_colab_link": true
    },
    "kernelspec": {
      "display_name": "Python 3",
      "name": "python3"
    },
    "language_info": {
      "name": "python"
    }
  },
  "nbformat": 4,
  "nbformat_minor": 0
}